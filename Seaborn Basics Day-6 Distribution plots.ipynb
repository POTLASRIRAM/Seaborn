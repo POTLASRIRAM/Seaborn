{
 "cells": [
  {
   "cell_type": "markdown",
   "metadata": {
    "colab_type": "text",
    "id": "LWd1UlMnhT2s"
   },
   "source": [
    "## Importing the libraries"
   ]
  },
  {
   "cell_type": "code",
   "execution_count": 1,
   "metadata": {},
   "outputs": [],
   "source": [
    "import numpy as np\n",
    "import pandas as pd\n",
    "import seaborn as sns\n",
    "import matplotlib.pyplot as plt"
   ]
  },
  {
   "cell_type": "markdown",
   "metadata": {},
   "source": [
    "## Importing the dataset"
   ]
  },
  {
   "cell_type": "code",
   "execution_count": 2,
   "metadata": {},
   "outputs": [],
   "source": [
    "df=pd.read_csv('D:\\Seaborn tutorials\\Day-6\\Sales.csv')"
   ]
  },
  {
   "cell_type": "code",
   "execution_count": 3,
   "metadata": {},
   "outputs": [
    {
     "data": {
      "text/html": [
       "<div>\n",
       "<style scoped>\n",
       "    .dataframe tbody tr th:only-of-type {\n",
       "        vertical-align: middle;\n",
       "    }\n",
       "\n",
       "    .dataframe tbody tr th {\n",
       "        vertical-align: top;\n",
       "    }\n",
       "\n",
       "    .dataframe thead th {\n",
       "        text-align: right;\n",
       "    }\n",
       "</style>\n",
       "<table border=\"1\" class=\"dataframe\">\n",
       "  <thead>\n",
       "    <tr style=\"text-align: right;\">\n",
       "      <th></th>\n",
       "      <th>Row ID</th>\n",
       "      <th>Order ID</th>\n",
       "      <th>Order Date</th>\n",
       "      <th>Order Priority</th>\n",
       "      <th>Order Quantity</th>\n",
       "      <th>Sales</th>\n",
       "      <th>Discount</th>\n",
       "      <th>Ship Mode</th>\n",
       "      <th>Profit</th>\n",
       "      <th>Unit Price</th>\n",
       "      <th>...</th>\n",
       "      <th>Customer Name</th>\n",
       "      <th>Province</th>\n",
       "      <th>Region</th>\n",
       "      <th>Customer Segment</th>\n",
       "      <th>Product Category</th>\n",
       "      <th>Product Sub-Category</th>\n",
       "      <th>Product Name</th>\n",
       "      <th>Product Container</th>\n",
       "      <th>Product Base Margin</th>\n",
       "      <th>Ship Date</th>\n",
       "    </tr>\n",
       "  </thead>\n",
       "  <tbody>\n",
       "    <tr>\n",
       "      <th>0</th>\n",
       "      <td>1</td>\n",
       "      <td>3</td>\n",
       "      <td>10/13/2010</td>\n",
       "      <td>Low</td>\n",
       "      <td>6</td>\n",
       "      <td>261.5400</td>\n",
       "      <td>0.04</td>\n",
       "      <td>Regular Air</td>\n",
       "      <td>-213.25</td>\n",
       "      <td>38.94</td>\n",
       "      <td>...</td>\n",
       "      <td>Muhammed MacIntyre</td>\n",
       "      <td>Nunavut</td>\n",
       "      <td>Nunavut</td>\n",
       "      <td>Small Business</td>\n",
       "      <td>Office Supplies</td>\n",
       "      <td>Storage &amp; Organization</td>\n",
       "      <td>Eldon Base for stackable storage shelf, platinum</td>\n",
       "      <td>Large Box</td>\n",
       "      <td>0.80</td>\n",
       "      <td>10/20/2010</td>\n",
       "    </tr>\n",
       "    <tr>\n",
       "      <th>1</th>\n",
       "      <td>2</td>\n",
       "      <td>6</td>\n",
       "      <td>2/20/2012</td>\n",
       "      <td>Not Specified</td>\n",
       "      <td>2</td>\n",
       "      <td>6.9300</td>\n",
       "      <td>0.01</td>\n",
       "      <td>Regular Air</td>\n",
       "      <td>-4.64</td>\n",
       "      <td>2.08</td>\n",
       "      <td>...</td>\n",
       "      <td>Ruben Dartt</td>\n",
       "      <td>Alberta</td>\n",
       "      <td>West</td>\n",
       "      <td>Corporate</td>\n",
       "      <td>Office Supplies</td>\n",
       "      <td>Scissors, Rulers and Trimmers</td>\n",
       "      <td>Kleencut® Forged Office Shears by Acme United ...</td>\n",
       "      <td>Small Pack</td>\n",
       "      <td>0.55</td>\n",
       "      <td>2/21/2012</td>\n",
       "    </tr>\n",
       "    <tr>\n",
       "      <th>2</th>\n",
       "      <td>3</td>\n",
       "      <td>32</td>\n",
       "      <td>7/15/2011</td>\n",
       "      <td>High</td>\n",
       "      <td>26</td>\n",
       "      <td>2808.0800</td>\n",
       "      <td>0.07</td>\n",
       "      <td>Regular Air</td>\n",
       "      <td>1054.82</td>\n",
       "      <td>107.53</td>\n",
       "      <td>...</td>\n",
       "      <td>Liz Pelletier</td>\n",
       "      <td>Alberta</td>\n",
       "      <td>West</td>\n",
       "      <td>Corporate</td>\n",
       "      <td>Furniture</td>\n",
       "      <td>Office Furnishings</td>\n",
       "      <td>Tenex Contemporary Contur Chairmats for Low an...</td>\n",
       "      <td>Medium Box</td>\n",
       "      <td>0.65</td>\n",
       "      <td>7/17/2011</td>\n",
       "    </tr>\n",
       "    <tr>\n",
       "      <th>3</th>\n",
       "      <td>4</td>\n",
       "      <td>32</td>\n",
       "      <td>7/15/2011</td>\n",
       "      <td>High</td>\n",
       "      <td>24</td>\n",
       "      <td>1761.4000</td>\n",
       "      <td>0.09</td>\n",
       "      <td>Delivery Truck</td>\n",
       "      <td>-1748.56</td>\n",
       "      <td>70.89</td>\n",
       "      <td>...</td>\n",
       "      <td>Liz Pelletier</td>\n",
       "      <td>Alberta</td>\n",
       "      <td>West</td>\n",
       "      <td>Corporate</td>\n",
       "      <td>Furniture</td>\n",
       "      <td>Tables</td>\n",
       "      <td>KI Conference Tables</td>\n",
       "      <td>Jumbo Box</td>\n",
       "      <td>0.72</td>\n",
       "      <td>7/16/2011</td>\n",
       "    </tr>\n",
       "    <tr>\n",
       "      <th>4</th>\n",
       "      <td>5</td>\n",
       "      <td>32</td>\n",
       "      <td>7/15/2011</td>\n",
       "      <td>High</td>\n",
       "      <td>23</td>\n",
       "      <td>160.2335</td>\n",
       "      <td>0.04</td>\n",
       "      <td>Regular Air</td>\n",
       "      <td>-85.13</td>\n",
       "      <td>7.99</td>\n",
       "      <td>...</td>\n",
       "      <td>Liz Pelletier</td>\n",
       "      <td>Alberta</td>\n",
       "      <td>West</td>\n",
       "      <td>Corporate</td>\n",
       "      <td>Technology</td>\n",
       "      <td>Telephones and Communication</td>\n",
       "      <td>Bell Sonecor JB700 Caller ID</td>\n",
       "      <td>Medium Box</td>\n",
       "      <td>0.60</td>\n",
       "      <td>7/17/2011</td>\n",
       "    </tr>\n",
       "    <tr>\n",
       "      <th>...</th>\n",
       "      <td>...</td>\n",
       "      <td>...</td>\n",
       "      <td>...</td>\n",
       "      <td>...</td>\n",
       "      <td>...</td>\n",
       "      <td>...</td>\n",
       "      <td>...</td>\n",
       "      <td>...</td>\n",
       "      <td>...</td>\n",
       "      <td>...</td>\n",
       "      <td>...</td>\n",
       "      <td>...</td>\n",
       "      <td>...</td>\n",
       "      <td>...</td>\n",
       "      <td>...</td>\n",
       "      <td>...</td>\n",
       "      <td>...</td>\n",
       "      <td>...</td>\n",
       "      <td>...</td>\n",
       "      <td>...</td>\n",
       "      <td>...</td>\n",
       "    </tr>\n",
       "    <tr>\n",
       "      <th>8385</th>\n",
       "      <td>8386</td>\n",
       "      <td>59909</td>\n",
       "      <td>8/5/2012</td>\n",
       "      <td>Low</td>\n",
       "      <td>11</td>\n",
       "      <td>1255.4800</td>\n",
       "      <td>0.06</td>\n",
       "      <td>Delivery Truck</td>\n",
       "      <td>-292.65</td>\n",
       "      <td>115.99</td>\n",
       "      <td>...</td>\n",
       "      <td>Christina Vanderzanden</td>\n",
       "      <td>Ontario</td>\n",
       "      <td>Ontario</td>\n",
       "      <td>Small Business</td>\n",
       "      <td>Technology</td>\n",
       "      <td>Office Machines</td>\n",
       "      <td>Hewlett-Packard Deskjet 5550 Color Inkjet Printer</td>\n",
       "      <td>Jumbo Drum</td>\n",
       "      <td>0.40</td>\n",
       "      <td>8/7/2012</td>\n",
       "    </tr>\n",
       "    <tr>\n",
       "      <th>8386</th>\n",
       "      <td>8387</td>\n",
       "      <td>59909</td>\n",
       "      <td>8/5/2012</td>\n",
       "      <td>Low</td>\n",
       "      <td>46</td>\n",
       "      <td>411.5600</td>\n",
       "      <td>0.09</td>\n",
       "      <td>Express Air</td>\n",
       "      <td>-188.02</td>\n",
       "      <td>9.38</td>\n",
       "      <td>...</td>\n",
       "      <td>Christina Vanderzanden</td>\n",
       "      <td>Ontario</td>\n",
       "      <td>Ontario</td>\n",
       "      <td>Small Business</td>\n",
       "      <td>Office Supplies</td>\n",
       "      <td>Storage &amp; Organization</td>\n",
       "      <td>Staples File Caddy</td>\n",
       "      <td>Small Box</td>\n",
       "      <td>0.57</td>\n",
       "      <td>8/12/2012</td>\n",
       "    </tr>\n",
       "    <tr>\n",
       "      <th>8387</th>\n",
       "      <td>8388</td>\n",
       "      <td>59911</td>\n",
       "      <td>12/18/2011</td>\n",
       "      <td>Not Specified</td>\n",
       "      <td>1</td>\n",
       "      <td>10.5900</td>\n",
       "      <td>0.10</td>\n",
       "      <td>Regular Air</td>\n",
       "      <td>-4.31</td>\n",
       "      <td>9.11</td>\n",
       "      <td>...</td>\n",
       "      <td>Arianne Irving</td>\n",
       "      <td>Saskachewan</td>\n",
       "      <td>Prarie</td>\n",
       "      <td>Corporate</td>\n",
       "      <td>Office Supplies</td>\n",
       "      <td>Paper</td>\n",
       "      <td>Black Print Carbonless Snap-Off® Rapid Letter,...</td>\n",
       "      <td>Wrap Bag</td>\n",
       "      <td>0.40</td>\n",
       "      <td>12/19/2011</td>\n",
       "    </tr>\n",
       "    <tr>\n",
       "      <th>8388</th>\n",
       "      <td>8389</td>\n",
       "      <td>59937</td>\n",
       "      <td>12/28/2009</td>\n",
       "      <td>High</td>\n",
       "      <td>7</td>\n",
       "      <td>235.9800</td>\n",
       "      <td>0.02</td>\n",
       "      <td>Regular Air</td>\n",
       "      <td>-32.28</td>\n",
       "      <td>30.98</td>\n",
       "      <td>...</td>\n",
       "      <td>John Stevenson</td>\n",
       "      <td>Quebec</td>\n",
       "      <td>Quebec</td>\n",
       "      <td>Small Business</td>\n",
       "      <td>Office Supplies</td>\n",
       "      <td>Paper</td>\n",
       "      <td>Xerox 197</td>\n",
       "      <td>Small Box</td>\n",
       "      <td>0.40</td>\n",
       "      <td>12/29/2009</td>\n",
       "    </tr>\n",
       "    <tr>\n",
       "      <th>8389</th>\n",
       "      <td>8390</td>\n",
       "      <td>59939</td>\n",
       "      <td>9/1/2010</td>\n",
       "      <td>Medium</td>\n",
       "      <td>42</td>\n",
       "      <td>130.9600</td>\n",
       "      <td>0.05</td>\n",
       "      <td>Regular Air</td>\n",
       "      <td>-66.74</td>\n",
       "      <td>3.14</td>\n",
       "      <td>...</td>\n",
       "      <td>Nicole Fjeld</td>\n",
       "      <td>Saskachewan</td>\n",
       "      <td>Prarie</td>\n",
       "      <td>Small Business</td>\n",
       "      <td>Office Supplies</td>\n",
       "      <td>Scissors, Rulers and Trimmers</td>\n",
       "      <td>Serrated Blade or Curved Handle Hand Letter Op...</td>\n",
       "      <td>Wrap Bag</td>\n",
       "      <td>0.84</td>\n",
       "      <td>9/1/2010</td>\n",
       "    </tr>\n",
       "  </tbody>\n",
       "</table>\n",
       "<p>8390 rows × 21 columns</p>\n",
       "</div>"
      ],
      "text/plain": [
       "      Row ID  Order ID  Order Date Order Priority  Order Quantity      Sales  \\\n",
       "0          1         3  10/13/2010            Low               6   261.5400   \n",
       "1          2         6   2/20/2012  Not Specified               2     6.9300   \n",
       "2          3        32   7/15/2011           High              26  2808.0800   \n",
       "3          4        32   7/15/2011           High              24  1761.4000   \n",
       "4          5        32   7/15/2011           High              23   160.2335   \n",
       "...      ...       ...         ...            ...             ...        ...   \n",
       "8385    8386     59909    8/5/2012            Low              11  1255.4800   \n",
       "8386    8387     59909    8/5/2012            Low              46   411.5600   \n",
       "8387    8388     59911  12/18/2011  Not Specified               1    10.5900   \n",
       "8388    8389     59937  12/28/2009           High               7   235.9800   \n",
       "8389    8390     59939    9/1/2010         Medium              42   130.9600   \n",
       "\n",
       "      Discount       Ship Mode   Profit  Unit Price  ...  \\\n",
       "0         0.04     Regular Air  -213.25       38.94  ...   \n",
       "1         0.01     Regular Air    -4.64        2.08  ...   \n",
       "2         0.07     Regular Air  1054.82      107.53  ...   \n",
       "3         0.09  Delivery Truck -1748.56       70.89  ...   \n",
       "4         0.04     Regular Air   -85.13        7.99  ...   \n",
       "...        ...             ...      ...         ...  ...   \n",
       "8385      0.06  Delivery Truck  -292.65      115.99  ...   \n",
       "8386      0.09     Express Air  -188.02        9.38  ...   \n",
       "8387      0.10     Regular Air    -4.31        9.11  ...   \n",
       "8388      0.02     Regular Air   -32.28       30.98  ...   \n",
       "8389      0.05     Regular Air   -66.74        3.14  ...   \n",
       "\n",
       "               Customer Name     Province   Region Customer Segment  \\\n",
       "0         Muhammed MacIntyre      Nunavut  Nunavut   Small Business   \n",
       "1                Ruben Dartt      Alberta     West        Corporate   \n",
       "2              Liz Pelletier      Alberta     West        Corporate   \n",
       "3              Liz Pelletier      Alberta     West        Corporate   \n",
       "4              Liz Pelletier      Alberta     West        Corporate   \n",
       "...                      ...          ...      ...              ...   \n",
       "8385  Christina Vanderzanden      Ontario  Ontario   Small Business   \n",
       "8386  Christina Vanderzanden      Ontario  Ontario   Small Business   \n",
       "8387          Arianne Irving  Saskachewan   Prarie        Corporate   \n",
       "8388          John Stevenson       Quebec   Quebec   Small Business   \n",
       "8389            Nicole Fjeld  Saskachewan   Prarie   Small Business   \n",
       "\n",
       "     Product Category           Product Sub-Category  \\\n",
       "0     Office Supplies         Storage & Organization   \n",
       "1     Office Supplies  Scissors, Rulers and Trimmers   \n",
       "2           Furniture             Office Furnishings   \n",
       "3           Furniture                         Tables   \n",
       "4          Technology   Telephones and Communication   \n",
       "...               ...                            ...   \n",
       "8385       Technology                Office Machines   \n",
       "8386  Office Supplies         Storage & Organization   \n",
       "8387  Office Supplies                          Paper   \n",
       "8388  Office Supplies                          Paper   \n",
       "8389  Office Supplies  Scissors, Rulers and Trimmers   \n",
       "\n",
       "                                           Product Name Product Container  \\\n",
       "0      Eldon Base for stackable storage shelf, platinum         Large Box   \n",
       "1     Kleencut® Forged Office Shears by Acme United ...        Small Pack   \n",
       "2     Tenex Contemporary Contur Chairmats for Low an...        Medium Box   \n",
       "3                                  KI Conference Tables         Jumbo Box   \n",
       "4                          Bell Sonecor JB700 Caller ID        Medium Box   \n",
       "...                                                 ...               ...   \n",
       "8385  Hewlett-Packard Deskjet 5550 Color Inkjet Printer        Jumbo Drum   \n",
       "8386                                 Staples File Caddy         Small Box   \n",
       "8387  Black Print Carbonless Snap-Off® Rapid Letter,...          Wrap Bag   \n",
       "8388                                          Xerox 197         Small Box   \n",
       "8389  Serrated Blade or Curved Handle Hand Letter Op...          Wrap Bag   \n",
       "\n",
       "     Product Base Margin   Ship Date  \n",
       "0                   0.80  10/20/2010  \n",
       "1                   0.55   2/21/2012  \n",
       "2                   0.65   7/17/2011  \n",
       "3                   0.72   7/16/2011  \n",
       "4                   0.60   7/17/2011  \n",
       "...                  ...         ...  \n",
       "8385                0.40    8/7/2012  \n",
       "8386                0.57   8/12/2012  \n",
       "8387                0.40  12/19/2011  \n",
       "8388                0.40  12/29/2009  \n",
       "8389                0.84    9/1/2010  \n",
       "\n",
       "[8390 rows x 21 columns]"
      ]
     },
     "execution_count": 3,
     "metadata": {},
     "output_type": "execute_result"
    }
   ],
   "source": [
    "df"
   ]
  },
  {
   "cell_type": "code",
   "execution_count": 4,
   "metadata": {},
   "outputs": [
    {
     "data": {
      "text/plain": [
       "Index(['Row ID', 'Order ID', 'Order Date', 'Order Priority', 'Order Quantity',\n",
       "       'Sales', 'Discount', 'Ship Mode', 'Profit', 'Unit Price',\n",
       "       'Shipping Cost', 'Customer Name', 'Province', 'Region',\n",
       "       'Customer Segment', 'Product Category', 'Product Sub-Category',\n",
       "       'Product Name', 'Product Container', 'Product Base Margin',\n",
       "       'Ship Date'],\n",
       "      dtype='object')"
      ]
     },
     "execution_count": 4,
     "metadata": {},
     "output_type": "execute_result"
    }
   ],
   "source": [
    "df.columns"
   ]
  },
  {
   "cell_type": "code",
   "execution_count": 5,
   "metadata": {},
   "outputs": [
    {
     "name": "stdout",
     "output_type": "stream",
     "text": [
      "<class 'pandas.core.frame.DataFrame'>\n",
      "RangeIndex: 8390 entries, 0 to 8389\n",
      "Data columns (total 21 columns):\n",
      " #   Column                Non-Null Count  Dtype  \n",
      "---  ------                --------------  -----  \n",
      " 0   Row ID                8390 non-null   int64  \n",
      " 1   Order ID              8390 non-null   int64  \n",
      " 2   Order Date            8390 non-null   object \n",
      " 3   Order Priority        8390 non-null   object \n",
      " 4   Order Quantity        8390 non-null   int64  \n",
      " 5   Sales                 8390 non-null   float64\n",
      " 6   Discount              8390 non-null   float64\n",
      " 7   Ship Mode             8390 non-null   object \n",
      " 8   Profit                8390 non-null   float64\n",
      " 9   Unit Price            8390 non-null   float64\n",
      " 10  Shipping Cost         8390 non-null   float64\n",
      " 11  Customer Name         8390 non-null   object \n",
      " 12  Province              8390 non-null   object \n",
      " 13  Region                8390 non-null   object \n",
      " 14  Customer Segment      8390 non-null   object \n",
      " 15  Product Category      8390 non-null   object \n",
      " 16  Product Sub-Category  8390 non-null   object \n",
      " 17  Product Name          8390 non-null   object \n",
      " 18  Product Container     8390 non-null   object \n",
      " 19  Product Base Margin   8327 non-null   float64\n",
      " 20  Ship Date             8390 non-null   object \n",
      "dtypes: float64(6), int64(3), object(12)\n",
      "memory usage: 1.3+ MB\n"
     ]
    }
   ],
   "source": [
    "df.info()"
   ]
  },
  {
   "cell_type": "markdown",
   "metadata": {},
   "source": [
    "### Plotting distribution plots"
   ]
  },
  {
   "cell_type": "code",
   "execution_count": 13,
   "metadata": {},
   "outputs": [
    {
     "data": {
      "text/plain": [
       "<matplotlib.axes._subplots.AxesSubplot at 0x2612492a3d0>"
      ]
     },
     "execution_count": 13,
     "metadata": {},
     "output_type": "execute_result"
    },
    {
     "data": {
      "image/png": "[encoded data removed]",
      "text/plain": [
       "<Figure size 432x288 with 1 Axes>"
      ]
     },
     "metadata": {
      "needs_background": "light"
     },
     "output_type": "display_data"
    }
   ],
   "source": [
    "sns.distplot(df['Sales'])"
   ]
  },
  {
   "cell_type": "code",
   "execution_count": 14,
   "metadata": {},
   "outputs": [
    {
     "data": {
      "text/plain": [
       "<matplotlib.axes._subplots.AxesSubplot at 0x261250fc940>"
      ]
     },
     "execution_count": 14,
     "metadata": {},
     "output_type": "execute_result"
    },
    {
     "data": {
      "image/png": "[encoded data removed]",
      "text/plain": [
       "<Figure size 432x288 with 1 Axes>"
      ]
     },
     "metadata": {
      "needs_background": "light"
     },
     "output_type": "display_data"
    }
   ],
   "source": [
    "sns.distplot(df['Profit'])"
   ]
  },
  {
   "cell_type": "code",
   "execution_count": 16,
   "metadata": {},
   "outputs": [
    {
     "data": {
      "text/plain": [
       "<matplotlib.axes._subplots.AxesSubplot at 0x261262795b0>"
      ]
     },
     "execution_count": 16,
     "metadata": {},
     "output_type": "execute_result"
    },
    {
     "data": {
      "image/png": "[encoded data removed]",
      "text/plain": [
       "<Figure size 432x288 with 1 Axes>"
      ]
     },
     "metadata": {
      "needs_background": "light"
     },
     "output_type": "display_data"
    }
   ],
   "source": [
    "sns.distplot(df['Profit'],kde=False)"
   ]
  },
  {
   "cell_type": "code",
   "execution_count": 19,
   "metadata": {},
   "outputs": [
    {
     "data": {
      "text/plain": [
       "<matplotlib.axes._subplots.AxesSubplot at 0x261264d0c70>"
      ]
     },
     "execution_count": 19,
     "metadata": {},
     "output_type": "execute_result"
    },
    {
     "data": {
      "image/png": "[encoded data removed]",
      "text/plain": [
       "<Figure size 432x288 with 1 Axes>"
      ]
     },
     "metadata": {
      "needs_background": "light"
     },
     "output_type": "display_data"
    }
   ],
   "source": [
    "sns.distplot(df['Profit'][(df['Region']=='West')&(df['Profit']>0)],kde=False)"
   ]
  },
  {
   "cell_type": "code",
   "execution_count": null,
   "metadata": {},
   "outputs": [],
   "source": []
  }
 ],
 "metadata": {
  "colab": {
   "authorship_tag": "ABX9TyP02NrvZmmq4qjp5mwU3Mr2",
   "collapsed_sections": [],
   "machine_shape": "hm",
   "name": "decision_tree_classification.ipynb",
   "provenance": [],
   "toc_visible": true
  },
  "kernelspec": {
   "display_name": "Python 3",
   "language": "python",
   "name": "python3"
  },
  "language_info": {
   "codemirror_mode": {
    "name": "ipython",
    "version": 3
   },
   "file_extension": ".py",
   "mimetype": "text/x-python",
   "name": "python",
   "nbconvert_exporter": "python",
   "pygments_lexer": "ipython3",
   "version": "3.8.3"
  }
 },
 "nbformat": 4,
 "nbformat_minor": 1
}
